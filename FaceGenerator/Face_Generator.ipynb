{
 "cells": [
  {
   "cell_type": "code",
   "execution_count": 1,
   "metadata": {},
   "outputs": [
    {
     "name": "stderr",
     "output_type": "stream",
     "text": [
      "c:\\Users\\trong\\Downloads\\honda_spotweld\\venv\\lib\\site-packages\\tqdm\\auto.py:22: TqdmWarning: IProgress not found. Please update jupyter and ipywidgets. See https://ipywidgets.readthedocs.io/en/stable/user_install.html\n",
      "  from .autonotebook import tqdm as notebook_tqdm\n"
     ]
    }
   ],
   "source": [
    "from multiprocessing import cpu_count\n",
    "import torch\n",
    "import torch.nn as nn\n",
    "import torch.nn.parallel\n",
    "import torch.backends.cudnn as cudnn\n",
    "import torch.optim as optim\n",
    "import torch.utils.data\n",
    "import torchvision.datasets as dset\n",
    "import torchvision.transforms as transforms\n",
    "import torchvision.utils as vutils\n",
    "import torchvision.transforms.functional as FT\n",
    "import matplotlib.pyplot as plt"
   ]
  },
  {
   "cell_type": "code",
   "execution_count": 10,
   "metadata": {},
   "outputs": [],
   "source": [
    "data_root = '/workspace/gan/celeba1'\n",
    "workers = cpu_count()"
   ]
  },
  {
   "cell_type": "code",
   "execution_count": 87,
   "metadata": {},
   "outputs": [],
   "source": [
    "def main():\n",
    "    batch_size = 128\n",
    "    image_size = 64\n",
    "    nz = 100\n",
    "    nc = 3\n",
    "    n_gen_feat = 64\n",
    "    n_dis_feat = 64\n",
    "    epochs = 5\n",
    "    lr = 1e-5\n",
    "    beta1 = 0.5\n",
    "    device = torch.device('cuda:0')\n",
    "\n",
    "    dataset = dset.ImageFolder(\n",
    "        root=str(data_root),\n",
    "        transform=transforms.Compose([\n",
    "             transforms.Resize(image_size),\n",
    "             transforms.CenterCrop(image_size),\n",
    "             transforms.ToTensor(),\n",
    "             transforms.Normalize((0.5, 0.5, 0.5), (0.5, 0.5, 0.5))\n",
    "         ]))\n",
    "\n",
    "    data_loader = torch.utils.data.DataLoader(\n",
    "        dataset, batch_size=batch_size, shuffle=True, num_workers=workers)\n",
    "\n",
    "    # real_batch = next(iter(data_loader))\n",
    "    # plt.figure(figsize=(8, 8))\n",
    "    # plt.axis('off')\n",
    "    # plt.imshow(\n",
    "    #     np.transpose(\n",
    "    #         vutils.make_grid(\n",
    "    #             real_batch[0].to(device)[:64],\n",
    "    #             padding=2, normalize=True).cpu(),\n",
    "    #         (1, 2, 0)))\n",
    "    # plt.pause(0.0001)\n",
    "\n",
    "    crit = nn.BCELoss()\n",
    "    fixed_noise = torch.randn(64, nz, 1, 1, device=device)\n",
    "    real_label = 1\n",
    "    fake_label = 0\n",
    "\n",
    "    net_g = Generator(nz, n_gen_feat, nc).to(device)\n",
    "    net_d = Discriminator(n_dis_feat, nc).to(device)\n",
    "\n",
    "    opt_g = optim.Adam(net_g.parameters(), lr=lr, betas=(beta1, 0.999))\n",
    "    opt_d = optim.Adam(net_d.parameters(), lr=lr, betas=(beta1, 0.999))\n",
    "\n",
    "    g_losses, d_losses = [], []\n",
    "    img_list = []\n",
    "    iters = 0\n",
    "\n",
    "    print('Starting training loop...')\n",
    "    for epoch in range(epochs):\n",
    "        for i, data in enumerate(data_loader, 0):\n",
    "            net_d.zero_grad()\n",
    "            real = data[0].to(device)\n",
    "            b_size = real.size(0)\n",
    "            label = torch.full((b_size,), real_label, dtype=torch.float32, device=device)\n",
    "            output = net_d(real).view(-1)\n",
    "            err_d_real = crit(output, label)\n",
    "            err_d_real.backward()\n",
    "            d_x = output.mean().item()\n",
    "\n",
    "            noise = torch.randn(b_size, nz, 1, 1, device=device)\n",
    "            fake = net_g(noise)\n",
    "            label.fill_(fake_label)\n",
    "            output = net_d(fake.detach()).view(-1)\n",
    "            err_d_fake = crit(output, label.to(torch.float32))\n",
    "            err_d_fake.backward()\n",
    "            d_g_z1 = output.mean().item()\n",
    "            err_d = err_d_real + err_d_fake\n",
    "            opt_d.step()\n",
    "\n",
    "            net_g.zero_grad()\n",
    "            label.fill_(real_label)\n",
    "            output = net_d(fake).view(-1)\n",
    "            err_g = crit(output, label.to(torch.float32))\n",
    "            err_g.backward()\n",
    "            d_g_z2 = output.mean().item()\n",
    "            opt_g.step()\n",
    "\n",
    "            if i % 50 == 0:\n",
    "                print('[%d/%d][%d/%d]\\t'\n",
    "                      'Loss_D: %.4f\\t'\n",
    "                      'Loss_G: %.4f\\t'\n",
    "                      'D(x): %.4f\\t'\n",
    "                      'D(G(z)): %.4f / %.4f'\n",
    "                      % (epoch, epochs, i, len(data_loader),\n",
    "                         err_d.item(), err_g.item(), d_x, d_g_z1, d_g_z2))\n",
    "\n",
    "            g_losses.append(err_g.item())\n",
    "            d_losses.append(err_d.item())\n",
    "\n",
    "            if (iters % 500 == 0) or (\n",
    "                    (epoch == epochs - 1) and (i == len(data_loader) - 1)):\n",
    "                with torch.no_grad():\n",
    "                    fake = net_g(fixed_noise).detach().cpu()\n",
    "                img_list.append(vutils.make_grid(\n",
    "                    fake, padding=2, normalize=True))\n",
    "\n",
    "            iters += 1\n",
    "\n",
    "    torch.save(net_g.state_dict(), \"/workspace/gan/net_g.pt\")\n",
    "    torch.save(net_d.state_dict(), \"/workspace/gan/net_d.pt\")"
   ]
  },
  {
   "cell_type": "code",
   "execution_count": 2,
   "metadata": {},
   "outputs": [],
   "source": [
    "class GenBlock(nn.Module):\n",
    "\n",
    "    def __init__(self, ni, no, kernel, stride, pad, bias=False):\n",
    "        super().__init__()\n",
    "        self.conv = nn.ConvTranspose2d(ni, no, kernel, stride, pad, bias=bias)\n",
    "        self.bn = nn.BatchNorm2d(no)\n",
    "        self.relu = nn.ReLU(True)\n",
    "\n",
    "    def forward(self, x):\n",
    "        return self.relu(self.bn(self.conv(x)))"
   ]
  },
  {
   "cell_type": "code",
   "execution_count": 3,
   "metadata": {},
   "outputs": [],
   "source": [
    "class Generator(nn.Module):\n",
    "\n",
    "    def __init__(self, nz, nf, nc):\n",
    "        super().__init__()\n",
    "        self.main = nn.Sequential(\n",
    "            GenBlock(nz,     nf * 8, 4, 1, 0),\n",
    "            GenBlock(nf * 8, nf * 4, 4, 2, 1),\n",
    "            GenBlock(nf * 4, nf * 2, 4, 2, 1),\n",
    "            GenBlock(nf * 2, nf,     4, 2, 1),\n",
    "            nn.ConvTranspose2d(nf, nc, 4, 2, 1, bias=False),\n",
    "            nn.Tanh()\n",
    "        )\n",
    "        self.apply(init_weights)\n",
    "\n",
    "    def forward(self, x):\n",
    "        return self.main(x)"
   ]
  },
  {
   "cell_type": "code",
   "execution_count": 4,
   "metadata": {},
   "outputs": [],
   "source": [
    "class ConvBlock(nn.Module):\n",
    "\n",
    "    def __init__(self, ni, no, kernel, stride, pad, alpha=0.2, bias=False):\n",
    "        super().__init__()\n",
    "        self.conv = nn.Conv2d(ni, no, kernel, stride, pad, bias=bias)\n",
    "        self.bn = nn.BatchNorm2d(no)\n",
    "        self.leaky_relu = nn.LeakyReLU(alpha, True)\n",
    "\n",
    "    def forward(self, x):\n",
    "        return self.leaky_relu(self.bn(self.conv(x)))"
   ]
  },
  {
   "cell_type": "code",
   "execution_count": 5,
   "metadata": {},
   "outputs": [],
   "source": [
    "class Discriminator(nn.Module):\n",
    "\n",
    "    def __init__(self, nf, nc):\n",
    "        super().__init__()\n",
    "        self.main = nn.Sequential(\n",
    "            nn.Conv2d(nc, nf, 4, 2, 1, bias=False),\n",
    "            nn.LeakyReLU(0.2, inplace=True),\n",
    "            ConvBlock(nf,     nf * 2, 4, 2, 1),\n",
    "            ConvBlock(nf * 2, nf * 4, 4, 2, 1),\n",
    "            ConvBlock(nf * 4, nf * 8, 4, 2, 1),\n",
    "            nn.Conv2d(nf * 8, 1,      4, 1, 0),\n",
    "            nn.Sigmoid()\n",
    "        )\n",
    "        self.apply(init_weights)\n",
    "\n",
    "    def forward(self, x):\n",
    "        return self.main(x)"
   ]
  },
  {
   "cell_type": "code",
   "execution_count": 6,
   "metadata": {},
   "outputs": [],
   "source": [
    "def init_weights(m):\n",
    "    class_name = m.__class__.__name__\n",
    "    if class_name in ('ConvBlock', 'GenBlock'):\n",
    "        for child in m.children():\n",
    "            init_weights(child)\n",
    "    elif class_name.find('Conv') != -1:\n",
    "        nn.init.normal_(m.weight.data, 0.0, 0.02)\n",
    "    elif class_name.find('BatchNorm') != -1:\n",
    "        nn.init.normal_(m.weight.data, 1.0, 0.02)\n",
    "        nn.init.constant_(m.bias.data, 0)"
   ]
  },
  {
   "cell_type": "code",
   "execution_count": null,
   "metadata": {},
   "outputs": [],
   "source": [
    "#train\n",
    "main()"
   ]
  },
  {
   "cell_type": "code",
   "execution_count": 7,
   "metadata": {},
   "outputs": [
    {
     "data": {
      "image/png": "[encoded data removed]",
      "text/plain": [
       "<Figure size 432x288 with 1 Axes>"
      ]
     },
     "metadata": {
      "needs_background": "light"
     },
     "output_type": "display_data"
    }
   ],
   "source": [
    "nz = 100\n",
    "nc = 3\n",
    "n_gen_feat = 64\n",
    "net_g = Generator(nz, n_gen_feat, nc)\n",
    "net_g.load_state_dict(torch.load(\"./net_g.pt\", map_location=\"cpu\"))\n",
    "\n",
    "fixed_noise = torch.randn(1, nz, 1, 1)\n",
    "fake = net_g(fixed_noise).squeeze(0)\n",
    "fake = fake*0.5 +0.5\n",
    "fake = fake*255\n",
    "fake = fake.permute(1, 2, 0)\n",
    "img = fake.detach().numpy()\n",
    "img=img.astype('uint8')\n",
    "#PIL_image = Image.fromarray(img.astype('uint8'), 'RGB')\n",
    "img = FT.to_pil_image(img)\n",
    "plt.imshow(img)\n",
    "#plt.savefig(\".\\\\foo.jpg\")\n",
    "a=0"
   ]
  }
 ],
 "metadata": {
  "kernelspec": {
   "display_name": "Python 3 (ipykernel)",
   "language": "python",
   "name": "python3"
  },
  "language_info": {
   "codemirror_mode": {
    "name": "ipython",
    "version": 3
   },
   "file_extension": ".py",
   "mimetype": "text/x-python",
   "name": "python",
   "nbconvert_exporter": "python",
   "pygments_lexer": "ipython3",
   "version": "3.9.13"
  },
  "toc": {
   "base_numbering": 1,
   "nav_menu": {},
   "number_sections": true,
   "sideBar": true,
   "skip_h1_title": false,
   "title_cell": "Table of Contents",
   "title_sidebar": "Contents",
   "toc_cell": false,
   "toc_position": {},
   "toc_section_display": true,
   "toc_window_display": false
  }
 },
 "nbformat": 4,
 "nbformat_minor": 2
}
